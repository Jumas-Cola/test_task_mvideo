{
 "cells": [
  {
   "cell_type": "code",
   "execution_count": 1,
   "id": "extra-validation",
   "metadata": {},
   "outputs": [],
   "source": [
    "import pandas as pd\n",
    "import pickle\n",
    "import itertools as it\n",
    "import bisect"
   ]
  },
  {
   "cell_type": "code",
   "execution_count": 2,
   "id": "acknowledged-conducting",
   "metadata": {},
   "outputs": [
    {
     "data": {
      "text/html": [
       "<div>\n",
       "<style scoped>\n",
       "    .dataframe tbody tr th:only-of-type {\n",
       "        vertical-align: middle;\n",
       "    }\n",
       "\n",
       "    .dataframe tbody tr th {\n",
       "        vertical-align: top;\n",
       "    }\n",
       "\n",
       "    .dataframe thead th {\n",
       "        text-align: right;\n",
       "    }\n",
       "</style>\n",
       "<table border=\"1\" class=\"dataframe\">\n",
       "  <thead>\n",
       "    <tr style=\"text-align: right;\">\n",
       "      <th></th>\n",
       "      <th>sku</th>\n",
       "      <th>sku_recom</th>\n",
       "      <th>rank</th>\n",
       "    </tr>\n",
       "  </thead>\n",
       "  <tbody>\n",
       "    <tr>\n",
       "      <th>0</th>\n",
       "      <td>WP260qJAo6</td>\n",
       "      <td>LgGNNDR7Vl</td>\n",
       "      <td>0.4</td>\n",
       "    </tr>\n",
       "    <tr>\n",
       "      <th>1</th>\n",
       "      <td>R66uXO6er6</td>\n",
       "      <td>BaSQ7g0osU</td>\n",
       "      <td>0.5</td>\n",
       "    </tr>\n",
       "    <tr>\n",
       "      <th>2</th>\n",
       "      <td>dnGyvx46ep</td>\n",
       "      <td>eW4qHCbqx3</td>\n",
       "      <td>0.5</td>\n",
       "    </tr>\n",
       "    <tr>\n",
       "      <th>3</th>\n",
       "      <td>RR3ILZvUPK</td>\n",
       "      <td>QJIda9RPHD</td>\n",
       "      <td>0.6</td>\n",
       "    </tr>\n",
       "    <tr>\n",
       "      <th>4</th>\n",
       "      <td>6vlOD3Kx6Q</td>\n",
       "      <td>1qjBiXhlYy</td>\n",
       "      <td>0.7</td>\n",
       "    </tr>\n",
       "    <tr>\n",
       "      <th>...</th>\n",
       "      <td>...</td>\n",
       "      <td>...</td>\n",
       "      <td>...</td>\n",
       "    </tr>\n",
       "    <tr>\n",
       "      <th>59999995</th>\n",
       "      <td>qxpUm3CBYz</td>\n",
       "      <td>40UWYNGl5G</td>\n",
       "      <td>0.7</td>\n",
       "    </tr>\n",
       "    <tr>\n",
       "      <th>59999996</th>\n",
       "      <td>WgT3ijR0LI</td>\n",
       "      <td>6tmooXChzM</td>\n",
       "      <td>0.8</td>\n",
       "    </tr>\n",
       "    <tr>\n",
       "      <th>59999997</th>\n",
       "      <td>Aor59n8KHj</td>\n",
       "      <td>v8pQePHJ14</td>\n",
       "      <td>0.6</td>\n",
       "    </tr>\n",
       "    <tr>\n",
       "      <th>59999998</th>\n",
       "      <td>gyvgIbUrCA</td>\n",
       "      <td>XaWM96CvBn</td>\n",
       "      <td>0.9</td>\n",
       "    </tr>\n",
       "    <tr>\n",
       "      <th>59999999</th>\n",
       "      <td>hsEuDCGHUA</td>\n",
       "      <td>BQPBiQXcu4</td>\n",
       "      <td>0.9</td>\n",
       "    </tr>\n",
       "  </tbody>\n",
       "</table>\n",
       "<p>60000000 rows × 3 columns</p>\n",
       "</div>"
      ],
      "text/plain": [
       "                 sku   sku_recom  rank\n",
       "0         WP260qJAo6  LgGNNDR7Vl   0.4\n",
       "1         R66uXO6er6  BaSQ7g0osU   0.5\n",
       "2         dnGyvx46ep  eW4qHCbqx3   0.5\n",
       "3         RR3ILZvUPK  QJIda9RPHD   0.6\n",
       "4         6vlOD3Kx6Q  1qjBiXhlYy   0.7\n",
       "...              ...         ...   ...\n",
       "59999995  qxpUm3CBYz  40UWYNGl5G   0.7\n",
       "59999996  WgT3ijR0LI  6tmooXChzM   0.8\n",
       "59999997  Aor59n8KHj  v8pQePHJ14   0.6\n",
       "59999998  gyvgIbUrCA  XaWM96CvBn   0.9\n",
       "59999999  hsEuDCGHUA  BQPBiQXcu4   0.9\n",
       "\n",
       "[60000000 rows x 3 columns]"
      ]
     },
     "execution_count": 2,
     "metadata": {},
     "output_type": "execute_result"
    }
   ],
   "source": [
    "df = pd.read_csv('recommends.csv')\n",
    "df"
   ]
  },
  {
   "cell_type": "code",
   "execution_count": 3,
   "id": "premier-catalyst",
   "metadata": {},
   "outputs": [],
   "source": [
    "import hashlib\n",
    "\n",
    "def sha1(x):\n",
    "    return int(hashlib.sha1(x.encode(\"utf-8\")).hexdigest(), 16)\n",
    "\n",
    "df['sku_hash'] = df['sku'].apply(sha1)"
   ]
  },
  {
   "cell_type": "code",
   "execution_count": 5,
   "id": "adverse-favor",
   "metadata": {},
   "outputs": [],
   "source": [
    "sorted_recommends = df.sort_values(['sku_hash', 'rank'], ascending=[True, False])"
   ]
  },
  {
   "cell_type": "code",
   "execution_count": null,
   "id": "following-nicholas",
   "metadata": {},
   "outputs": [],
   "source": [
    "df = df.drop(columns=['sku'])"
   ]
  },
  {
   "cell_type": "code",
   "execution_count": 7,
   "id": "infrared-helen",
   "metadata": {},
   "outputs": [],
   "source": [
    "sorted_recommends.drop(columns=['sku_hash']) \\\n",
    "    .to_csv('sorted_recommends.csv', index=False, header=False)\n",
    "\n",
    "sorted_recommends.drop(columns=['sku_recom', 'rank']) \\\n",
    "    .drop_duplicates('sku_hash') \\\n",
    "    .to_csv('index.csv', index=False, header=False)"
   ]
  }
 ],
 "metadata": {
  "kernelspec": {
   "display_name": "Python 3",
   "language": "python",
   "name": "python3"
  },
  "language_info": {
   "codemirror_mode": {
    "name": "ipython",
    "version": 3
   },
   "file_extension": ".py",
   "mimetype": "text/x-python",
   "name": "python",
   "nbconvert_exporter": "python",
   "pygments_lexer": "ipython3",
   "version": "3.9.2"
  }
 },
 "nbformat": 4,
 "nbformat_minor": 5
}
